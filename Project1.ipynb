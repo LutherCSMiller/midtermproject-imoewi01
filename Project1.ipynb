{
 "cells": [
  {
   "cell_type": "markdown",
   "metadata": {},
   "source": [
    "# Data for Mountains Taller than 8,000 meters\n",
    "\n",
    "Will Imoehl\n",
    "\n",
    "October 2016\n",
    "\n",
    "# Abstract\n",
    "This project looks at data for all the mountains that are taller than 8,000 meters. The first data set comes from kaggle and contains information about the names, heights, and number of ascents of each mountain. Analysis is done to determine which mountains have the highest and lowest rates for successful climbing attempts. The second data set contains information gathered on the number of deaths on Mount Everest. The third and final data set contains data on the deaths on the remaining mountains over 8,000 meters tall. These last two data sets are combined with one another in order to ask questions about the most common cause of deaths on all the mountains, the most common cause of death on the mountain with the most deaths and the most common cause of death on the mountain with the least number of deaths. The initial plan for the three data sets was to combine all three in order to ask questions, but the data set from kaggle disagrees with those from wikipedia in several important ways, including number of failed summits (for some mountains the number of deaths is way larger than what kaggle says the number of failed attempts are), so I felt it was best to analyze the kaggle data set separately from the two from wikipedia. "
   ]
  },
  {
   "cell_type": "code",
   "execution_count": 1,
   "metadata": {
    "collapsed": false
   },
   "outputs": [],
   "source": [
    "import pandas as pd"
   ]
  },
  {
   "cell_type": "markdown",
   "metadata": {},
   "source": [
    "# The First Dataset\n",
    "This data comes from kaggle and contains information on\n",
    "* Mountain Name\n",
    "* Height in meters\n",
    "* Height in feet\n",
    "* Prominence in meters\n",
    "* Mountain Range\n",
    "* Coordinates\n",
    "* Parent Mountain\n",
    "* Year of first ascent\n",
    "* Number of ascents before 2004\n",
    "* Number of failed ascents before 2004"
   ]
  },
  {
   "cell_type": "code",
   "execution_count": 2,
   "metadata": {
    "collapsed": false
   },
   "outputs": [],
   "source": [
    "start = pd.read_excel(\"Mountains.xls\")"
   ]
  },
  {
   "cell_type": "code",
   "execution_count": 3,
   "metadata": {
    "collapsed": false
   },
   "outputs": [],
   "source": [
    "start = start[(start.Heightm>=8000)]"
   ]
  },
  {
   "cell_type": "markdown",
   "metadata": {
    "collapsed": true
   },
   "source": [
    "# What was the last mountain to be climbed? The first?\n",
    "We start with the last mountain to be climbed by sorting by first ascent in descending order."
   ]
  },
  {
   "cell_type": "code",
   "execution_count": 4,
   "metadata": {
    "collapsed": false
   },
   "outputs": [
    {
     "data": {
      "text/html": [
       "<div>\n",
       "<table border=\"1\" class=\"dataframe\">\n",
       "  <thead>\n",
       "    <tr style=\"text-align: right;\">\n",
       "      <th></th>\n",
       "      <th>Rank</th>\n",
       "      <th>Mountain</th>\n",
       "      <th>Heightm</th>\n",
       "      <th>Heightft</th>\n",
       "      <th>Prominencem</th>\n",
       "      <th>Range</th>\n",
       "      <th>Coordinates</th>\n",
       "      <th>Parent mountain</th>\n",
       "      <th>First ascent</th>\n",
       "      <th>Ascents bef. 2004</th>\n",
       "      <th>Failed attempts bef. 2004</th>\n",
       "    </tr>\n",
       "  </thead>\n",
       "  <tbody>\n",
       "    <tr>\n",
       "      <th>13</th>\n",
       "      <td>14</td>\n",
       "      <td>Shishapangma</td>\n",
       "      <td>8027</td>\n",
       "      <td>26335</td>\n",
       "      <td>2897</td>\n",
       "      <td>Jugal Himalaya</td>\n",
       "      <td>28Â°21â€²12â€³N 85Â°46â€²43â€³Eï»¿</td>\n",
       "      <td>Cho Oyu</td>\n",
       "      <td>1964</td>\n",
       "      <td>43.0</td>\n",
       "      <td>19.0</td>\n",
       "    </tr>\n",
       "  </tbody>\n",
       "</table>\n",
       "</div>"
      ],
      "text/plain": [
       "    Rank      Mountain  Heightm  Heightft  Prominencem           Range  \\\n",
       "13    14  Shishapangma     8027     26335         2897  Jugal Himalaya   \n",
       "\n",
       "                            Coordinates Parent mountain  First ascent  \\\n",
       "13  28Â°21â€²12â€³N 85Â°46â€²43â€³Eï»¿          Cho Oyu          1964   \n",
       "\n",
       "    Ascents bef. 2004  Failed attempts bef. 2004  \n",
       "13               43.0                       19.0  "
      ]
     },
     "execution_count": 4,
     "metadata": {},
     "output_type": "execute_result"
    }
   ],
   "source": [
    "start.sort_values('First ascent',ascending=False).head(1)"
   ]
  },
  {
   "cell_type": "markdown",
   "metadata": {},
   "source": [
    "Now we simply reverse the order to obtain the first mountain in the list climbed."
   ]
  },
  {
   "cell_type": "code",
   "execution_count": 5,
   "metadata": {
    "collapsed": false
   },
   "outputs": [
    {
     "data": {
      "text/html": [
       "<div>\n",
       "<table border=\"1\" class=\"dataframe\">\n",
       "  <thead>\n",
       "    <tr style=\"text-align: right;\">\n",
       "      <th></th>\n",
       "      <th>Rank</th>\n",
       "      <th>Mountain</th>\n",
       "      <th>Heightm</th>\n",
       "      <th>Heightft</th>\n",
       "      <th>Prominencem</th>\n",
       "      <th>Range</th>\n",
       "      <th>Coordinates</th>\n",
       "      <th>Parent mountain</th>\n",
       "      <th>First ascent</th>\n",
       "      <th>Ascents bef. 2004</th>\n",
       "      <th>Failed attempts bef. 2004</th>\n",
       "    </tr>\n",
       "  </thead>\n",
       "  <tbody>\n",
       "    <tr>\n",
       "      <th>9</th>\n",
       "      <td>10</td>\n",
       "      <td>Annapurna I</td>\n",
       "      <td>8091</td>\n",
       "      <td>26545</td>\n",
       "      <td>2984</td>\n",
       "      <td>Annapurna Himalaya</td>\n",
       "      <td>28Â°35â€²44â€³N 83Â°49â€²13â€³Eï»¿</td>\n",
       "      <td>Cho Oyu</td>\n",
       "      <td>1950</td>\n",
       "      <td>36.0</td>\n",
       "      <td>47.0</td>\n",
       "    </tr>\n",
       "  </tbody>\n",
       "</table>\n",
       "</div>"
      ],
      "text/plain": [
       "   Rank     Mountain  Heightm  Heightft  Prominencem               Range  \\\n",
       "9    10  Annapurna I     8091     26545         2984  Annapurna Himalaya   \n",
       "\n",
       "                           Coordinates Parent mountain  First ascent  \\\n",
       "9  28Â°35â€²44â€³N 83Â°49â€²13â€³Eï»¿          Cho Oyu          1950   \n",
       "\n",
       "   Ascents bef. 2004  Failed attempts bef. 2004  \n",
       "9               36.0                       47.0  "
      ]
     },
     "execution_count": 5,
     "metadata": {},
     "output_type": "execute_result"
    }
   ],
   "source": [
    "start.sort_values('First ascent').head(1)"
   ]
  },
  {
   "cell_type": "markdown",
   "metadata": {},
   "source": [
    "# Which moutain has been climbed the most?"
   ]
  },
  {
   "cell_type": "code",
   "execution_count": 6,
   "metadata": {
    "collapsed": false
   },
   "outputs": [
    {
     "data": {
      "text/html": [
       "<div>\n",
       "<table border=\"1\" class=\"dataframe\">\n",
       "  <thead>\n",
       "    <tr style=\"text-align: right;\">\n",
       "      <th></th>\n",
       "      <th>Rank</th>\n",
       "      <th>Mountain</th>\n",
       "      <th>Heightm</th>\n",
       "      <th>Heightft</th>\n",
       "      <th>Prominencem</th>\n",
       "      <th>Range</th>\n",
       "      <th>Coordinates</th>\n",
       "      <th>Parent mountain</th>\n",
       "      <th>First ascent</th>\n",
       "      <th>Ascents bef. 2004</th>\n",
       "      <th>Failed attempts bef. 2004</th>\n",
       "    </tr>\n",
       "  </thead>\n",
       "  <tbody>\n",
       "    <tr>\n",
       "      <th>0</th>\n",
       "      <td>1</td>\n",
       "      <td>Mount Everest</td>\n",
       "      <td>8848</td>\n",
       "      <td>29029</td>\n",
       "      <td>8848</td>\n",
       "      <td>Mahalangur Himalaya</td>\n",
       "      <td>27Â°59â€²17â€³N 86Â°55â€²31â€³Eï»¿</td>\n",
       "      <td>NaN</td>\n",
       "      <td>1953</td>\n",
       "      <td>145.0</td>\n",
       "      <td>121.0</td>\n",
       "    </tr>\n",
       "  </tbody>\n",
       "</table>\n",
       "</div>"
      ],
      "text/plain": [
       "   Rank       Mountain  Heightm  Heightft  Prominencem                Range  \\\n",
       "0     1  Mount Everest     8848     29029         8848  Mahalangur Himalaya   \n",
       "\n",
       "                           Coordinates Parent mountain  First ascent  \\\n",
       "0  27Â°59â€²17â€³N 86Â°55â€²31â€³Eï»¿              NaN          1953   \n",
       "\n",
       "   Ascents bef. 2004  Failed attempts bef. 2004  \n",
       "0              145.0                      121.0  "
      ]
     },
     "execution_count": 6,
     "metadata": {},
     "output_type": "execute_result"
    }
   ],
   "source": [
    "start.sort_values('Ascents bef. 2004',ascending=False).head(1)"
   ]
  },
  {
   "cell_type": "markdown",
   "metadata": {},
   "source": [
    "# Which mountain had the most failed attempts?"
   ]
  },
  {
   "cell_type": "code",
   "execution_count": 7,
   "metadata": {
    "collapsed": false
   },
   "outputs": [
    {
     "data": {
      "text/html": [
       "<div>\n",
       "<table border=\"1\" class=\"dataframe\">\n",
       "  <thead>\n",
       "    <tr style=\"text-align: right;\">\n",
       "      <th></th>\n",
       "      <th>Rank</th>\n",
       "      <th>Mountain</th>\n",
       "      <th>Heightm</th>\n",
       "      <th>Heightft</th>\n",
       "      <th>Prominencem</th>\n",
       "      <th>Range</th>\n",
       "      <th>Coordinates</th>\n",
       "      <th>Parent mountain</th>\n",
       "      <th>First ascent</th>\n",
       "      <th>Ascents bef. 2004</th>\n",
       "      <th>Failed attempts bef. 2004</th>\n",
       "    </tr>\n",
       "  </thead>\n",
       "  <tbody>\n",
       "    <tr>\n",
       "      <th>0</th>\n",
       "      <td>1</td>\n",
       "      <td>Mount Everest</td>\n",
       "      <td>8848</td>\n",
       "      <td>29029</td>\n",
       "      <td>8848</td>\n",
       "      <td>Mahalangur Himalaya</td>\n",
       "      <td>27Â°59â€²17â€³N 86Â°55â€²31â€³Eï»¿</td>\n",
       "      <td>NaN</td>\n",
       "      <td>1953</td>\n",
       "      <td>145.0</td>\n",
       "      <td>121.0</td>\n",
       "    </tr>\n",
       "  </tbody>\n",
       "</table>\n",
       "</div>"
      ],
      "text/plain": [
       "   Rank       Mountain  Heightm  Heightft  Prominencem                Range  \\\n",
       "0     1  Mount Everest     8848     29029         8848  Mahalangur Himalaya   \n",
       "\n",
       "                           Coordinates Parent mountain  First ascent  \\\n",
       "0  27Â°59â€²17â€³N 86Â°55â€²31â€³Eï»¿              NaN          1953   \n",
       "\n",
       "   Ascents bef. 2004  Failed attempts bef. 2004  \n",
       "0              145.0                      121.0  "
      ]
     },
     "execution_count": 7,
     "metadata": {},
     "output_type": "execute_result"
    }
   ],
   "source": [
    "start.sort_values('Failed attempts bef. 2004',ascending=False).head(1)"
   ]
  },
  {
   "cell_type": "markdown",
   "metadata": {},
   "source": [
    "# Which mountain has the highest success rate?\n",
    "The success rate is defined to be the number of successful attempts divided by the total number of attempts (failed ascents plus successful ascents). "
   ]
  },
  {
   "cell_type": "code",
   "execution_count": 8,
   "metadata": {
    "collapsed": true
   },
   "outputs": [],
   "source": [
    "start['success'] = start['Ascents bef. 2004']/(start['Ascents bef. 2004']+start['Failed attempts bef. 2004'])"
   ]
  },
  {
   "cell_type": "code",
   "execution_count": 9,
   "metadata": {
    "collapsed": false
   },
   "outputs": [
    {
     "data": {
      "text/html": [
       "<div>\n",
       "<table border=\"1\" class=\"dataframe\">\n",
       "  <thead>\n",
       "    <tr style=\"text-align: right;\">\n",
       "      <th></th>\n",
       "      <th>Rank</th>\n",
       "      <th>Mountain</th>\n",
       "      <th>Heightm</th>\n",
       "      <th>Heightft</th>\n",
       "      <th>Prominencem</th>\n",
       "      <th>Range</th>\n",
       "      <th>Coordinates</th>\n",
       "      <th>Parent mountain</th>\n",
       "      <th>First ascent</th>\n",
       "      <th>Ascents bef. 2004</th>\n",
       "      <th>Failed attempts bef. 2004</th>\n",
       "      <th>success</th>\n",
       "    </tr>\n",
       "  </thead>\n",
       "  <tbody>\n",
       "    <tr>\n",
       "      <th>12</th>\n",
       "      <td>13</td>\n",
       "      <td>Gasherbrum II</td>\n",
       "      <td>8035</td>\n",
       "      <td>26362</td>\n",
       "      <td>1524</td>\n",
       "      <td>Baltoro Karakoram</td>\n",
       "      <td>35Â°45â€²28â€³N 76Â°39â€²12â€³Eï»¿</td>\n",
       "      <td>Gasherbrum I</td>\n",
       "      <td>1956</td>\n",
       "      <td>54.0</td>\n",
       "      <td>12.0</td>\n",
       "      <td>0.818182</td>\n",
       "    </tr>\n",
       "  </tbody>\n",
       "</table>\n",
       "</div>"
      ],
      "text/plain": [
       "    Rank       Mountain  Heightm  Heightft  Prominencem              Range  \\\n",
       "12    13  Gasherbrum II     8035     26362         1524  Baltoro Karakoram   \n",
       "\n",
       "                            Coordinates Parent mountain  First ascent  \\\n",
       "12  35Â°45â€²28â€³N 76Â°39â€²12â€³Eï»¿     Gasherbrum I          1956   \n",
       "\n",
       "    Ascents bef. 2004  Failed attempts bef. 2004   success  \n",
       "12               54.0                       12.0  0.818182  "
      ]
     },
     "execution_count": 9,
     "metadata": {},
     "output_type": "execute_result"
    }
   ],
   "source": [
    "start.sort_values('success',ascending=False).head(1)"
   ]
  },
  {
   "cell_type": "markdown",
   "metadata": {},
   "source": [
    "# Which mountain has the highest rate of failure?\n",
    "Similarly the failure rate is defined as the number of failed attempts divided by the number of total attempts."
   ]
  },
  {
   "cell_type": "code",
   "execution_count": 10,
   "metadata": {
    "collapsed": true
   },
   "outputs": [],
   "source": [
    "start['failure'] = start['Failed attempts bef. 2004']/(start['Ascents bef. 2004']+start['Failed attempts bef. 2004'])"
   ]
  },
  {
   "cell_type": "code",
   "execution_count": 11,
   "metadata": {
    "collapsed": false
   },
   "outputs": [
    {
     "data": {
      "text/html": [
       "<div>\n",
       "<table border=\"1\" class=\"dataframe\">\n",
       "  <thead>\n",
       "    <tr style=\"text-align: right;\">\n",
       "      <th></th>\n",
       "      <th>Rank</th>\n",
       "      <th>Mountain</th>\n",
       "      <th>Heightm</th>\n",
       "      <th>Heightft</th>\n",
       "      <th>Prominencem</th>\n",
       "      <th>Range</th>\n",
       "      <th>Coordinates</th>\n",
       "      <th>Parent mountain</th>\n",
       "      <th>First ascent</th>\n",
       "      <th>Ascents bef. 2004</th>\n",
       "      <th>Failed attempts bef. 2004</th>\n",
       "      <th>success</th>\n",
       "      <th>failure</th>\n",
       "    </tr>\n",
       "  </thead>\n",
       "  <tbody>\n",
       "    <tr>\n",
       "      <th>9</th>\n",
       "      <td>10</td>\n",
       "      <td>Annapurna I</td>\n",
       "      <td>8091</td>\n",
       "      <td>26545</td>\n",
       "      <td>2984</td>\n",
       "      <td>Annapurna Himalaya</td>\n",
       "      <td>28Â°35â€²44â€³N 83Â°49â€²13â€³Eï»¿</td>\n",
       "      <td>Cho Oyu</td>\n",
       "      <td>1950</td>\n",
       "      <td>36.0</td>\n",
       "      <td>47.0</td>\n",
       "      <td>0.433735</td>\n",
       "      <td>0.566265</td>\n",
       "    </tr>\n",
       "  </tbody>\n",
       "</table>\n",
       "</div>"
      ],
      "text/plain": [
       "   Rank     Mountain  Heightm  Heightft  Prominencem               Range  \\\n",
       "9    10  Annapurna I     8091     26545         2984  Annapurna Himalaya   \n",
       "\n",
       "                           Coordinates Parent mountain  First ascent  \\\n",
       "9  28Â°35â€²44â€³N 83Â°49â€²13â€³Eï»¿          Cho Oyu          1950   \n",
       "\n",
       "   Ascents bef. 2004  Failed attempts bef. 2004   success   failure  \n",
       "9               36.0                       47.0  0.433735  0.566265  "
      ]
     },
     "execution_count": 11,
     "metadata": {},
     "output_type": "execute_result"
    }
   ],
   "source": [
    "start.sort_values('failure', ascending=False).head(1)"
   ]
  },
  {
   "cell_type": "markdown",
   "metadata": {},
   "source": [
    "# Now getting data on deaths on Mount Everest.\n",
    "This data was scraped from wikipedia. While wikipedia may not be the most trustworthy source of data, it has the largest data set I could find for deaths on Mount Everest and the rest of the mountains over 8,000 meters tall. The scraped data was then exported to Excel to make it easier to handle since the scraping resulted in strange formatting issues. This data contains information on the name, age, nationality, cause of death, and date of death for each of the deceased."
   ]
  },
  {
   "cell_type": "code",
   "execution_count": 12,
   "metadata": {
    "collapsed": false
   },
   "outputs": [],
   "source": [
    "everest = pd.read_excel(\"EverestDeaths.xlsx\")\n",
    "everest = everest[['Name','Age','Nationality','Cause of death','Date']]"
   ]
  },
  {
   "cell_type": "code",
   "execution_count": 13,
   "metadata": {
    "collapsed": false
   },
   "outputs": [
    {
     "data": {
      "text/html": [
       "<div>\n",
       "<table border=\"1\" class=\"dataframe\">\n",
       "  <thead>\n",
       "    <tr style=\"text-align: right;\">\n",
       "      <th></th>\n",
       "      <th>Name</th>\n",
       "      <th>Age</th>\n",
       "      <th>Nationality</th>\n",
       "      <th>Cause of death</th>\n",
       "      <th>Date</th>\n",
       "    </tr>\n",
       "  </thead>\n",
       "  <tbody>\n",
       "  </tbody>\n",
       "</table>\n",
       "</div>"
      ],
      "text/plain": [
       "Empty DataFrame\n",
       "Columns: [Name, Age, Nationality, Cause of death, Date]\n",
       "Index: []"
      ]
     },
     "execution_count": 13,
     "metadata": {},
     "output_type": "execute_result"
    }
   ],
   "source": [
    "everest.fillna(0).head(0)"
   ]
  },
  {
   "cell_type": "markdown",
   "metadata": {},
   "source": [
    "When the data was compiled for the other mountains I manually added a column that named the mountain the deaths occurred on. In order for this data set to be combined with the data set I import below, we first need to create a column that says which mountain these deaths belong to."
   ]
  },
  {
   "cell_type": "code",
   "execution_count": 14,
   "metadata": {
    "collapsed": false
   },
   "outputs": [],
   "source": [
    "everest['Mountain'] = 'Mount Everest'"
   ]
  },
  {
   "cell_type": "markdown",
   "metadata": {},
   "source": [
    "# Now death data on the rest of the mountains over 8,000 meters.\n",
    "This data also comes from wikipedia. Unfortunately it does not have the age of the climbers when they died, so any questions about the ages of climbers must be limited just to the data on Mount Everest. It does contain information on the date of death, name, nationality, cause of death, and the mountain for each of the deceased. "
   ]
  },
  {
   "cell_type": "code",
   "execution_count": 15,
   "metadata": {
    "collapsed": true
   },
   "outputs": [],
   "source": [
    "mount = pd.read_excel(\"8000metermountaindeaths.xlsx\")"
   ]
  },
  {
   "cell_type": "code",
   "execution_count": 16,
   "metadata": {
    "collapsed": false
   },
   "outputs": [
    {
     "data": {
      "text/html": [
       "<div>\n",
       "<table border=\"1\" class=\"dataframe\">\n",
       "  <thead>\n",
       "    <tr style=\"text-align: right;\">\n",
       "      <th></th>\n",
       "      <th>Date</th>\n",
       "      <th>Name</th>\n",
       "      <th>Nationality</th>\n",
       "      <th>Cause of death</th>\n",
       "      <th>Mountain</th>\n",
       "      <th>Age</th>\n",
       "    </tr>\n",
       "  </thead>\n",
       "  <tbody>\n",
       "    <tr>\n",
       "      <th>0</th>\n",
       "      <td>1905-08-28</td>\n",
       "      <td>unnamed porter</td>\n",
       "      <td>India</td>\n",
       "      <td>Fall</td>\n",
       "      <td>Kangchenjunga</td>\n",
       "      <td>NaN</td>\n",
       "    </tr>\n",
       "    <tr>\n",
       "      <th>1</th>\n",
       "      <td>1905-09-01</td>\n",
       "      <td>three unnamed others</td>\n",
       "      <td>India</td>\n",
       "      <td>Fall</td>\n",
       "      <td>Kangchenjunga</td>\n",
       "      <td>NaN</td>\n",
       "    </tr>\n",
       "    <tr>\n",
       "      <th>2</th>\n",
       "      <td>1905-09-01</td>\n",
       "      <td>Alexis Pache</td>\n",
       "      <td>Switzerland</td>\n",
       "      <td>Fall</td>\n",
       "      <td>Kangchenjunga</td>\n",
       "      <td>NaN</td>\n",
       "    </tr>\n",
       "    <tr>\n",
       "      <th>3</th>\n",
       "      <td>1929-05-27</td>\n",
       "      <td>E. Farmer</td>\n",
       "      <td>United States</td>\n",
       "      <td>NaN</td>\n",
       "      <td>Kangchenjunga</td>\n",
       "      <td>NaN</td>\n",
       "    </tr>\n",
       "    <tr>\n",
       "      <th>4</th>\n",
       "      <td>1930-05-09</td>\n",
       "      <td>Chettan</td>\n",
       "      <td>India</td>\n",
       "      <td>Falling ice</td>\n",
       "      <td>Kangchenjunga</td>\n",
       "      <td>NaN</td>\n",
       "    </tr>\n",
       "  </tbody>\n",
       "</table>\n",
       "</div>"
      ],
      "text/plain": [
       "        Date                  Name    Nationality Cause of death  \\\n",
       "0 1905-08-28        unnamed porter          India           Fall   \n",
       "1 1905-09-01  three unnamed others          India           Fall   \n",
       "2 1905-09-01          Alexis Pache    Switzerland           Fall   \n",
       "3 1929-05-27             E. Farmer  United States            NaN   \n",
       "4 1930-05-09               Chettan          India    Falling ice   \n",
       "\n",
       "        Mountain  Age  \n",
       "0  Kangchenjunga  NaN  \n",
       "1  Kangchenjunga  NaN  \n",
       "2  Kangchenjunga  NaN  \n",
       "3  Kangchenjunga  NaN  \n",
       "4  Kangchenjunga  NaN  "
      ]
     },
     "execution_count": 16,
     "metadata": {},
     "output_type": "execute_result"
    }
   ],
   "source": [
    "mount.head()"
   ]
  },
  {
   "cell_type": "markdown",
   "metadata": {},
   "source": [
    "This line combines the two data frames."
   ]
  },
  {
   "cell_type": "code",
   "execution_count": 17,
   "metadata": {
    "collapsed": false
   },
   "outputs": [],
   "source": [
    "all_mount = mount.append(everest)"
   ]
  },
  {
   "cell_type": "code",
   "execution_count": 18,
   "metadata": {
    "collapsed": false
   },
   "outputs": [
    {
     "data": {
      "text/html": [
       "<div>\n",
       "<table border=\"1\" class=\"dataframe\">\n",
       "  <thead>\n",
       "    <tr style=\"text-align: right;\">\n",
       "      <th></th>\n",
       "      <th>Age</th>\n",
       "      <th>Cause of death</th>\n",
       "      <th>Date</th>\n",
       "      <th>Mountain</th>\n",
       "      <th>Name</th>\n",
       "      <th>Nationality</th>\n",
       "    </tr>\n",
       "  </thead>\n",
       "  <tbody>\n",
       "  </tbody>\n",
       "</table>\n",
       "</div>"
      ],
      "text/plain": [
       "Empty DataFrame\n",
       "Columns: [Age, Cause of death, Date, Mountain, Name, Nationality]\n",
       "Index: []"
      ]
     },
     "execution_count": 18,
     "metadata": {},
     "output_type": "execute_result"
    }
   ],
   "source": [
    "all_mount.fillna(0).head(0)"
   ]
  },
  {
   "cell_type": "markdown",
   "metadata": {
    "collapsed": true
   },
   "source": [
    "# Who is the oldest person to die on Mount Everest? The youngest?\n",
    "This can be done by sorting the data frame that has the data for deaths on all the mountains by age. "
   ]
  },
  {
   "cell_type": "code",
   "execution_count": 19,
   "metadata": {
    "collapsed": false
   },
   "outputs": [
    {
     "data": {
      "text/html": [
       "<div>\n",
       "<table border=\"1\" class=\"dataframe\">\n",
       "  <thead>\n",
       "    <tr style=\"text-align: right;\">\n",
       "      <th></th>\n",
       "      <th>Age</th>\n",
       "      <th>Date</th>\n",
       "      <th>Cause of death</th>\n",
       "      <th>Name</th>\n",
       "      <th>Nationality</th>\n",
       "      <th>Mountain</th>\n",
       "    </tr>\n",
       "  </thead>\n",
       "  <tbody>\n",
       "    <tr>\n",
       "      <th>59</th>\n",
       "      <td>82.0</td>\n",
       "      <td>2011-05-9</td>\n",
       "      <td>Altitude</td>\n",
       "      <td>Shailendra Kumar Upadhyaya</td>\n",
       "      <td>Nepal</td>\n",
       "      <td>Mount Everest</td>\n",
       "    </tr>\n",
       "  </tbody>\n",
       "</table>\n",
       "</div>"
      ],
      "text/plain": [
       "     Age        Date Cause of death                        Name Nationality  \\\n",
       "59  82.0  2011-05-9        Altitude  Shailendra Kumar Upadhyaya       Nepal   \n",
       "\n",
       "         Mountain  \n",
       "59  Mount Everest  "
      ]
     },
     "execution_count": 19,
     "metadata": {},
     "output_type": "execute_result"
    }
   ],
   "source": [
    "all_mount.sort_values('Age',ascending=False).head(1)[['Age','Date','Cause of death', 'Name', 'Nationality','Mountain']]"
   ]
  },
  {
   "cell_type": "markdown",
   "metadata": {},
   "source": [
    "Here we do the exact same thing as the cell above, just in reversed order."
   ]
  },
  {
   "cell_type": "code",
   "execution_count": 20,
   "metadata": {
    "collapsed": false
   },
   "outputs": [
    {
     "data": {
      "text/html": [
       "<div>\n",
       "<table border=\"1\" class=\"dataframe\">\n",
       "  <thead>\n",
       "    <tr style=\"text-align: right;\">\n",
       "      <th></th>\n",
       "      <th>Age</th>\n",
       "      <th>Date</th>\n",
       "      <th>Cause of death</th>\n",
       "      <th>Name</th>\n",
       "      <th>Nationality</th>\n",
       "      <th>Mountain</th>\n",
       "    </tr>\n",
       "  </thead>\n",
       "  <tbody>\n",
       "    <tr>\n",
       "      <th>3</th>\n",
       "      <td>19.0</td>\n",
       "      <td>2015-04-25</td>\n",
       "      <td>NaN</td>\n",
       "      <td>Pemba Sherpa</td>\n",
       "      <td>Nepal</td>\n",
       "      <td>Mount Everest</td>\n",
       "    </tr>\n",
       "  </tbody>\n",
       "</table>\n",
       "</div>"
      ],
      "text/plain": [
       "    Age         Date Cause of death          Name Nationality       Mountain\n",
       "3  19.0  2015-04-25             NaN  Pemba Sherpa       Nepal  Mount Everest"
      ]
     },
     "execution_count": 20,
     "metadata": {},
     "output_type": "execute_result"
    }
   ],
   "source": [
    "all_mount.sort_values('Age').head(1)[['Age','Date','Cause of death', 'Name', 'Nationality','Mountain']]"
   ]
  },
  {
   "cell_type": "markdown",
   "metadata": {
    "collapsed": false
   },
   "source": [
    "# What is the most common cause of death on all the mountains over 8,000 meters?\n",
    "To solve this we use groupby to get the number of people that died each way. Then we can just sort by the number of people that died to find the most common cause of death."
   ]
  },
  {
   "cell_type": "code",
   "execution_count": 21,
   "metadata": {
    "collapsed": false
   },
   "outputs": [
    {
     "data": {
      "text/html": [
       "<div>\n",
       "<table border=\"1\" class=\"dataframe\">\n",
       "  <thead>\n",
       "    <tr style=\"text-align: right;\">\n",
       "      <th></th>\n",
       "      <th>Cause of death</th>\n",
       "      <th>num</th>\n",
       "    </tr>\n",
       "  </thead>\n",
       "  <tbody>\n",
       "    <tr>\n",
       "      <th>3</th>\n",
       "      <td>Avalanche</td>\n",
       "      <td>243</td>\n",
       "    </tr>\n",
       "  </tbody>\n",
       "</table>\n",
       "</div>"
      ],
      "text/plain": [
       "  Cause of death  num\n",
       "3      Avalanche  243"
      ]
     },
     "execution_count": 21,
     "metadata": {},
     "output_type": "execute_result"
    }
   ],
   "source": [
    "cod = all_mount.groupby('Cause of death').size().reset_index()\n",
    "cod.columns = ['Cause of death', 'num']\n",
    "cod.sort_values('num',ascending=False).head(1)"
   ]
  },
  {
   "cell_type": "markdown",
   "metadata": {},
   "source": [
    "# What are the top 10 causes of death?\n",
    "Here we just use the data frame from the previous question and show the top 10. This was done more for my own curiousty than anything else."
   ]
  },
  {
   "cell_type": "code",
   "execution_count": 22,
   "metadata": {
    "collapsed": false
   },
   "outputs": [
    {
     "data": {
      "text/html": [
       "<div>\n",
       "<table border=\"1\" class=\"dataframe\">\n",
       "  <thead>\n",
       "    <tr style=\"text-align: right;\">\n",
       "      <th></th>\n",
       "      <th>Cause of death</th>\n",
       "      <th>num</th>\n",
       "    </tr>\n",
       "  </thead>\n",
       "  <tbody>\n",
       "    <tr>\n",
       "      <th>3</th>\n",
       "      <td>Avalanche</td>\n",
       "      <td>243</td>\n",
       "    </tr>\n",
       "    <tr>\n",
       "      <th>15</th>\n",
       "      <td>Fall</td>\n",
       "      <td>214</td>\n",
       "    </tr>\n",
       "    <tr>\n",
       "      <th>34</th>\n",
       "      <td>Unknown cause</td>\n",
       "      <td>81</td>\n",
       "    </tr>\n",
       "    <tr>\n",
       "      <th>2</th>\n",
       "      <td>Altitude</td>\n",
       "      <td>49</td>\n",
       "    </tr>\n",
       "    <tr>\n",
       "      <th>14</th>\n",
       "      <td>Exposure</td>\n",
       "      <td>44</td>\n",
       "    </tr>\n",
       "    <tr>\n",
       "      <th>13</th>\n",
       "      <td>Exhaustion</td>\n",
       "      <td>32</td>\n",
       "    </tr>\n",
       "    <tr>\n",
       "      <th>30</th>\n",
       "      <td>Sickness</td>\n",
       "      <td>23</td>\n",
       "    </tr>\n",
       "    <tr>\n",
       "      <th>19</th>\n",
       "      <td>Heart attack</td>\n",
       "      <td>13</td>\n",
       "    </tr>\n",
       "    <tr>\n",
       "      <th>1</th>\n",
       "      <td>Accident</td>\n",
       "      <td>12</td>\n",
       "    </tr>\n",
       "    <tr>\n",
       "      <th>32</th>\n",
       "      <td>Storm</td>\n",
       "      <td>12</td>\n",
       "    </tr>\n",
       "  </tbody>\n",
       "</table>\n",
       "</div>"
      ],
      "text/plain": [
       "   Cause of death  num\n",
       "3       Avalanche  243\n",
       "15           Fall  214\n",
       "34  Unknown cause   81\n",
       "2        Altitude   49\n",
       "14       Exposure   44\n",
       "13     Exhaustion   32\n",
       "30       Sickness   23\n",
       "19   Heart attack   13\n",
       "1        Accident   12\n",
       "32          Storm   12"
      ]
     },
     "execution_count": 22,
     "metadata": {},
     "output_type": "execute_result"
    }
   ],
   "source": [
    "cod.sort_values('num',ascending=False).head(10)"
   ]
  },
  {
   "cell_type": "markdown",
   "metadata": {},
   "source": [
    "# List all the mountains in order of most deaths to least\n",
    "Here we use groupby to count the number of deaths on each of the mountains. Then we can simply sort by the number of deaths to get the ordered list of mountains."
   ]
  },
  {
   "cell_type": "code",
   "execution_count": 23,
   "metadata": {
    "collapsed": false
   },
   "outputs": [
    {
     "data": {
      "text/html": [
       "<div>\n",
       "<table border=\"1\" class=\"dataframe\">\n",
       "  <thead>\n",
       "    <tr style=\"text-align: right;\">\n",
       "      <th></th>\n",
       "      <th>Mountain</th>\n",
       "      <th>number of deaths</th>\n",
       "    </tr>\n",
       "  </thead>\n",
       "  <tbody>\n",
       "    <tr>\n",
       "      <th>11</th>\n",
       "      <td>Mount Everest</td>\n",
       "      <td>287</td>\n",
       "    </tr>\n",
       "    <tr>\n",
       "      <th>6</th>\n",
       "      <td>K2</td>\n",
       "      <td>84</td>\n",
       "    </tr>\n",
       "    <tr>\n",
       "      <th>12</th>\n",
       "      <td>Nanga Parbat</td>\n",
       "      <td>80</td>\n",
       "    </tr>\n",
       "    <tr>\n",
       "      <th>10</th>\n",
       "      <td>Manaslu</td>\n",
       "      <td>79</td>\n",
       "    </tr>\n",
       "    <tr>\n",
       "      <th>0</th>\n",
       "      <td>Annapurna I</td>\n",
       "      <td>72</td>\n",
       "    </tr>\n",
       "    <tr>\n",
       "      <th>3</th>\n",
       "      <td>Dhaulagiri I</td>\n",
       "      <td>72</td>\n",
       "    </tr>\n",
       "    <tr>\n",
       "      <th>7</th>\n",
       "      <td>Kangchenjunga</td>\n",
       "      <td>53</td>\n",
       "    </tr>\n",
       "    <tr>\n",
       "      <th>2</th>\n",
       "      <td>Cho Oyu</td>\n",
       "      <td>50</td>\n",
       "    </tr>\n",
       "    <tr>\n",
       "      <th>9</th>\n",
       "      <td>Makalu</td>\n",
       "      <td>35</td>\n",
       "    </tr>\n",
       "    <tr>\n",
       "      <th>4</th>\n",
       "      <td>Gasherbrum I</td>\n",
       "      <td>34</td>\n",
       "    </tr>\n",
       "    <tr>\n",
       "      <th>1</th>\n",
       "      <td>Broad Peak</td>\n",
       "      <td>33</td>\n",
       "    </tr>\n",
       "    <tr>\n",
       "      <th>13</th>\n",
       "      <td>Shishapangma</td>\n",
       "      <td>29</td>\n",
       "    </tr>\n",
       "    <tr>\n",
       "      <th>8</th>\n",
       "      <td>Lhotse</td>\n",
       "      <td>26</td>\n",
       "    </tr>\n",
       "    <tr>\n",
       "      <th>5</th>\n",
       "      <td>Gasherbrum II</td>\n",
       "      <td>23</td>\n",
       "    </tr>\n",
       "  </tbody>\n",
       "</table>\n",
       "</div>"
      ],
      "text/plain": [
       "         Mountain  number of deaths\n",
       "11  Mount Everest               287\n",
       "6              K2                84\n",
       "12   Nanga Parbat                80\n",
       "10        Manaslu                79\n",
       "0     Annapurna I                72\n",
       "3    Dhaulagiri I                72\n",
       "7   Kangchenjunga                53\n",
       "2         Cho Oyu                50\n",
       "9          Makalu                35\n",
       "4    Gasherbrum I                34\n",
       "1      Broad Peak                33\n",
       "13   Shishapangma                29\n",
       "8          Lhotse                26\n",
       "5   Gasherbrum II                23"
      ]
     },
     "execution_count": 23,
     "metadata": {},
     "output_type": "execute_result"
    }
   ],
   "source": [
    "dpm = all_mount.groupby('Mountain').size().reset_index()\n",
    "dpm.columns = ['Mountain', 'number of deaths']\n",
    "dpm.sort_values('number of deaths',ascending=False)"
   ]
  },
  {
   "cell_type": "markdown",
   "metadata": {
    "collapsed": false
   },
   "source": [
    "# What were the most common causes of death on the mountain with the most deaths and on the mountain with the least deaths?\n",
    "First we look at the mountain with the most deaths, which was Mount Everest from the previous step. We create a new data from called most by filtering out all the deaths that were not on Mount Everest. Then we use groupby to count the number of people that died each way and look at the top cause of death."
   ]
  },
  {
   "cell_type": "code",
   "execution_count": 24,
   "metadata": {
    "collapsed": false
   },
   "outputs": [
    {
     "data": {
      "text/html": [
       "<div>\n",
       "<table border=\"1\" class=\"dataframe\">\n",
       "  <thead>\n",
       "    <tr style=\"text-align: right;\">\n",
       "      <th></th>\n",
       "      <th>Cause of death</th>\n",
       "      <th>number of deaths</th>\n",
       "    </tr>\n",
       "  </thead>\n",
       "  <tbody>\n",
       "    <tr>\n",
       "      <th>2</th>\n",
       "      <td>Avalanche</td>\n",
       "      <td>70</td>\n",
       "    </tr>\n",
       "  </tbody>\n",
       "</table>\n",
       "</div>"
      ],
      "text/plain": [
       "  Cause of death  number of deaths\n",
       "2      Avalanche                70"
      ]
     },
     "execution_count": 24,
     "metadata": {},
     "output_type": "execute_result"
    }
   ],
   "source": [
    "most = all_mount[all_mount['Mountain'] == 'Mount Everest']\n",
    "most = most.groupby('Cause of death').size().reset_index()\n",
    "most.columns = ['Cause of death','number of deaths']\n",
    "most.sort_values('number of deaths', ascending=False).head(1)"
   ]
  },
  {
   "cell_type": "markdown",
   "metadata": {},
   "source": [
    "Next we look at the mountain with the fewest amount of deaths, which was Gasherbrum II from the previous question. We use the same methodology as for Mount Everest to find the most common cause of death."
   ]
  },
  {
   "cell_type": "code",
   "execution_count": 25,
   "metadata": {
    "collapsed": false
   },
   "outputs": [
    {
     "data": {
      "text/html": [
       "<div>\n",
       "<table border=\"1\" class=\"dataframe\">\n",
       "  <thead>\n",
       "    <tr style=\"text-align: right;\">\n",
       "      <th></th>\n",
       "      <th>Cause of death</th>\n",
       "      <th>number of deaths</th>\n",
       "    </tr>\n",
       "  </thead>\n",
       "  <tbody>\n",
       "    <tr>\n",
       "      <th>3</th>\n",
       "      <td>Fall</td>\n",
       "      <td>9</td>\n",
       "    </tr>\n",
       "  </tbody>\n",
       "</table>\n",
       "</div>"
      ],
      "text/plain": [
       "  Cause of death  number of deaths\n",
       "3           Fall                 9"
      ]
     },
     "execution_count": 25,
     "metadata": {},
     "output_type": "execute_result"
    }
   ],
   "source": [
    "most = all_mount[all_mount['Mountain'] == 'Gasherbrum II']\n",
    "most = most.groupby('Cause of death').size().reset_index()\n",
    "most.columns = ['Cause of death','number of deaths']\n",
    "most.sort_values('number of deaths', ascending=False).head(1)"
   ]
  }
 ],
 "metadata": {
  "kernelspec": {
   "display_name": "Python 3",
   "language": "python",
   "name": "python3"
  },
  "language_info": {
   "codemirror_mode": {
    "name": "ipython",
    "version": 3
   },
   "file_extension": ".py",
   "mimetype": "text/x-python",
   "name": "python",
   "nbconvert_exporter": "python",
   "pygments_lexer": "ipython3",
   "version": "3.5.1"
  }
 },
 "nbformat": 4,
 "nbformat_minor": 0
}
